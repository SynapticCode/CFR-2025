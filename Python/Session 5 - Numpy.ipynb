{
 "cells": [
  {
   "cell_type": "markdown",
   "metadata": {},
   "source": [
    "# Session 5: From Single to Multiple Values: Arrays and NumPy"
   ]
  },
  {
   "cell_type": "markdown",
   "metadata": {},
   "source": [
    "### Creating Arrays\n",
    "In Python, arrays can be created manually.\n",
    "\n",
    "#### Example: Creating an array manually\n"
   ]
  },
  {
   "cell_type": "code",
   "execution_count": 2,
   "metadata": {},
   "outputs": [
    {
     "name": "stdout",
     "output_type": "stream",
     "text": [
      "[1 2 3 4]\n"
     ]
    }
   ],
   "source": [
    "import numpy as np\n",
    "\n",
    "my_array = np.array([1, 2, 3, 4])\n",
    "print(my_array)\n"
   ]
  },
  {
   "cell_type": "markdown",
   "metadata": {},
   "source": [
    "They can also be created quickly and automatically using NumPy function`linspace` to generate evenly spaced points in an interval: `np.linspace(start, stop, number of points)`"
   ]
  },
  {
   "cell_type": "markdown",
   "metadata": {},
   "source": [
    "### Practice Problem 1\n",
    "- Create a NumPy array `my_array` with values `[5, 10, 15, 20, 25]`.\n",
    "- Multiply each element by 3 and print the result.\n",
    "\n",
    "#### Solution:\n"
   ]
  },
  {
   "cell_type": "code",
   "execution_count": 3,
   "metadata": {},
   "outputs": [
    {
     "name": "stdout",
     "output_type": "stream",
     "text": [
      "[15 30 45 60 75]\n"
     ]
    }
   ],
   "source": [
    "my_array = np.array([5, 10, 15, 20, 25])\n",
    "result = my_array * 3\n",
    "print(result) "
   ]
  },
  {
   "cell_type": "markdown",
   "metadata": {},
   "source": [
    " ### Practice Problem 2\n",
    "\n",
    " Write a function that takes two arrays (they have to be the same size), adds them together, and then returns the mean of the summed array."
   ]
  },
  {
   "cell_type": "code",
   "execution_count": 9,
   "metadata": {},
   "outputs": [
    {
     "name": "stdout",
     "output_type": "stream",
     "text": [
      "[10 20]\n",
      "15.0\n"
     ]
    }
   ],
   "source": [
    "my_array = np.array([5, 10])\n",
    "my_array2 = np.array([5, 10])\n",
    "result = my_array + my_array2\n",
    "print(result)\n",
    "mean = np.mean(result)\n",
    "print(mean)\n",
    "\n"
   ]
  },
  {
   "cell_type": "markdown",
   "metadata": {},
   "source": [
    "### Practice Problem 3\n",
    "- Create an array of numbers with the values `[10, 20, 30, 40, 50]`.\n",
    "- Change the second element to 25.\n",
    "- Print the modified array.\n",
    "\n",
    "#### Solution:\n"
   ]
  },
  {
   "cell_type": "code",
   "execution_count": 11,
   "metadata": {},
   "outputs": [
    {
     "name": "stdout",
     "output_type": "stream",
     "text": [
      "[10 25 30 40 50]\n"
     ]
    }
   ],
   "source": [
    "my_array = np.array([10,20,30,40,50])\n",
    "my_array[1] = 25\n",
    "print(my_array)\n"
   ]
  },
  {
   "cell_type": "markdown",
   "metadata": {},
   "source": [
    "### Practice Problem 4\n",
    "\n",
    "Create a 6 by 10 (6 rows and 10 columns) 2D numpy array in which the first row is all 1's, the rest of the second column is all 5's, and the rest of the array is all 0's.\n",
    "\n",
    "### Solution:"
   ]
  },
  {
   "cell_type": "code",
   "execution_count": null,
   "metadata": {},
   "outputs": [],
   "source": [
    "\n",
    "\n"
   ]
  },
  {
   "cell_type": "markdown",
   "metadata": {},
   "source": [
    "### Practice Problem 5\n",
    "\n",
    "Write a function that takes an array and a threshold number, and returns just the values that are greater than that threshold. "
   ]
  },
  {
   "cell_type": "markdown",
   "metadata": {},
   "source": [
    "## Solution:"
   ]
  },
  {
   "cell_type": "code",
   "execution_count": null,
   "metadata": {},
   "outputs": [],
   "source": []
  }
 ],
 "metadata": {
  "kernelspec": {
   "display_name": "Python 3 (ipykernel)",
   "language": "python",
   "name": "python3"
  },
  "language_info": {
   "codemirror_mode": {
    "name": "ipython",
    "version": 3
   },
   "file_extension": ".py",
   "mimetype": "text/x-python",
   "name": "python",
   "nbconvert_exporter": "python",
   "pygments_lexer": "ipython3",
   "version": "3.12.3"
  }
 },
 "nbformat": 4,
 "nbformat_minor": 4
}
